{
 "cells": [
  {
   "cell_type": "code",
   "execution_count": 5,
   "id": "f93188d3",
   "metadata": {},
   "outputs": [
    {
     "name": "stdout",
     "output_type": "stream",
     "text": [
      "Collecting statsmodels\n",
      "  Downloading statsmodels-0.14.5-cp312-cp312-manylinux2014_x86_64.manylinux_2_17_x86_64.manylinux_2_28_x86_64.whl.metadata (9.5 kB)\n",
      "Requirement already satisfied: numpy<3,>=1.22.3 in /home/codespace/.local/lib/python3.12/site-packages (from statsmodels) (2.3.1)\n",
      "Requirement already satisfied: scipy!=1.9.2,>=1.8 in /home/codespace/.local/lib/python3.12/site-packages (from statsmodels) (1.16.0)\n",
      "Requirement already satisfied: pandas!=2.1.0,>=1.4 in /home/codespace/.local/lib/python3.12/site-packages (from statsmodels) (2.3.1)\n",
      "Collecting patsy>=0.5.6 (from statsmodels)\n",
      "  Downloading patsy-1.0.1-py2.py3-none-any.whl.metadata (3.3 kB)\n",
      "Requirement already satisfied: packaging>=21.3 in /home/codespace/.local/lib/python3.12/site-packages (from statsmodels) (25.0)\n",
      "Requirement already satisfied: python-dateutil>=2.8.2 in /home/codespace/.local/lib/python3.12/site-packages (from pandas!=2.1.0,>=1.4->statsmodels) (2.9.0.post0)\n",
      "Requirement already satisfied: pytz>=2020.1 in /home/codespace/.local/lib/python3.12/site-packages (from pandas!=2.1.0,>=1.4->statsmodels) (2025.2)\n",
      "Requirement already satisfied: tzdata>=2022.7 in /home/codespace/.local/lib/python3.12/site-packages (from pandas!=2.1.0,>=1.4->statsmodels) (2025.2)\n",
      "Requirement already satisfied: six>=1.5 in /home/codespace/.local/lib/python3.12/site-packages (from python-dateutil>=2.8.2->pandas!=2.1.0,>=1.4->statsmodels) (1.17.0)\n",
      "Downloading statsmodels-0.14.5-cp312-cp312-manylinux2014_x86_64.manylinux_2_17_x86_64.manylinux_2_28_x86_64.whl (10.4 MB)\n",
      "\u001b[2K   \u001b[90m━━━━━━━━━━━━━━━━━━━━━━━━━━━━━━━━━━━━━━━━\u001b[0m \u001b[32m10.4/10.4 MB\u001b[0m \u001b[31m28.0 MB/s\u001b[0m eta \u001b[36m0:00:00\u001b[0m \u001b[36m0:00:01\u001b[0m\n",
      "\u001b[?25hDownloading patsy-1.0.1-py2.py3-none-any.whl (232 kB)\n",
      "Installing collected packages: patsy, statsmodels\n",
      "\u001b[2K   \u001b[90m━━━━━━━━━━━━━━━━━━━━━━━━━━━━━━━━━━━━━━━━\u001b[0m \u001b[32m2/2\u001b[0m [statsmodels]\u001b[0m [statsmodels]\n",
      "\u001b[1A\u001b[2KSuccessfully installed patsy-1.0.1 statsmodels-0.14.5\n",
      "Note: you may need to restart the kernel to use updated packages.\n"
     ]
    }
   ],
   "source": [
    "pip install statsmodels"
   ]
  },
  {
   "cell_type": "code",
   "execution_count": null,
   "id": "473576c7",
   "metadata": {},
   "outputs": [
    {
     "name": "stdout",
     "output_type": "stream",
     "text": [
      "['.git', 'references.bib', 'main.tex', 'ucetd.cls', 'Moral_Alignment.ipynb', '18_QSurvey .csv']\n"
     ]
    }
   ],
   "source": [
    "import os\n",
    "print(os.listdir()) "
   ]
  },
  {
   "cell_type": "code",
   "execution_count": 16,
   "id": "e35c7f4d",
   "metadata": {},
   "outputs": [
    {
     "data": {
      "text/plain": [
       "['Q1 How do you describe yourself',\n",
       " 'Q2 Choose one or more races that you consider yourself to be',\n",
       " 'Q3 What is the highest level of education you have completed?',\n",
       " 'Q4 My political preferences lean...',\n",
       " 'Q5 I take pride in the U.S. Constitution and feel that its core values align with my personal beliefs.',\n",
       " 'Q6 I would rather be a citizen of America than any other country.',\n",
       " 'Q7 It would be disrespectful for myself or another American to criticize U.S. policies.',\n",
       " 'Q8 At this moment, which government do you feel most morally aligned with?',\n",
       " \"Q9 Indicate your level of agreement: I felt the need to defend and support the U.S. after reading the Prime Minister's remarks.\",\n",
       " \"Q10 The Prime Minister's remarks reflect my own concerns and I felt understood, even if I felt the need to defend the U.S.\",\n",
       " 'Q11 I believe the Prime Minister\\x92s message was sincere.',\n",
       " \"Q12 I support the Prime Minister's right to comment on this issue.\",\n",
       " 'Q13 After reading this article, my view on the Canadian Prime Minister is...',\n",
       " 'Q14 After reading this article, my view of the U.S. government is...',\n",
       " \"Q15 Based on the article you read, how much do you support the U.S. government's data policy?\",\n",
       " 'Treatment',\n",
       " 'Nationalism',\n",
       " 'Message_Efficacy',\n",
       " 'Defensive_Alignment',\n",
       " 'Q15',\n",
       " 'Nationalism.1',\n",
       " 'Unnamed: 21',\n",
       " 'Unnamed: 22',\n",
       " 'Unnamed: 23',\n",
       " 'Unnamed: 24',\n",
       " 'Unnamed: 25',\n",
       " 'Unnamed: 26',\n",
       " 'Unnamed: 27',\n",
       " 'Unnamed: 28',\n",
       " 'Moral Alignment',\n",
       " 'Unnamed: 30',\n",
       " 'Unnamed: 31',\n",
       " 'Defensive Nationalism',\n",
       " 'Unnamed: 33',\n",
       " 'Unnamed: 34',\n",
       " 'Unnamed: 35',\n",
       " 'Unnamed: 36',\n",
       " 'Unnamed: 37',\n",
       " 'Unnamed: 38',\n",
       " 'Unnamed: 39',\n",
       " 'Unnamed: 40',\n",
       " 'Unnamed: 41',\n",
       " 'Unnamed: 42',\n",
       " 'Unnamed: 43',\n",
       " 'Unnamed: 44',\n",
       " 'Unnamed: 45',\n",
       " 'Unnamed: 46',\n",
       " 'Unnamed: 47',\n",
       " 'Unnamed: 48',\n",
       " 'Unnamed: 49']"
      ]
     },
     "execution_count": 16,
     "metadata": {},
     "output_type": "execute_result"
    }
   ],
   "source": [
    "list(df.columns)\n"
   ]
  },
  {
   "cell_type": "code",
   "execution_count": 17,
   "id": "eb7ad1f0",
   "metadata": {},
   "outputs": [
    {
     "data": {
      "text/plain": [
       "['Q1 How do you describe yourself',\n",
       " 'Q2 Choose one or more races that you consider yourself to be',\n",
       " 'Q3 What is the highest level of education you have completed?',\n",
       " 'Q4 My political preferences lean...',\n",
       " 'Q5 I take pride in the U.S. Constitution and feel that its core values align with my personal beliefs.',\n",
       " 'Q6 I would rather be a citizen of America than any other country.',\n",
       " 'Q7 It would be disrespectful for myself or another American to criticize U.S. policies.',\n",
       " 'Q8',\n",
       " 'Q9',\n",
       " \"Q10 The Prime Minister's remarks reflect my own concerns and I felt understood, even if I felt the need to defend the U.S.\",\n",
       " 'Q11 I believe the Prime Minister\\x92s message was sincere.',\n",
       " \"Q12 I support the Prime Minister's right to comment on this issue.\",\n",
       " 'Q13 After reading this article, my view on the Canadian Prime Minister is...',\n",
       " 'Q14 After reading this article, my view of the U.S. government is...',\n",
       " \"Q15 Based on the article you read, how much do you support the U.S. government's data policy?\",\n",
       " 'Treatment',\n",
       " 'Nationalism',\n",
       " 'Message_Efficacy',\n",
       " 'Defensive_Alignment',\n",
       " 'Q15',\n",
       " 'Nationalism.1',\n",
       " 'Unnamed: 21',\n",
       " 'Unnamed: 22',\n",
       " 'Unnamed: 23',\n",
       " 'Unnamed: 24',\n",
       " 'Unnamed: 25',\n",
       " 'Unnamed: 26',\n",
       " 'Unnamed: 27',\n",
       " 'Unnamed: 28',\n",
       " 'Moral Alignment',\n",
       " 'Unnamed: 30',\n",
       " 'Unnamed: 31',\n",
       " 'Defensive Nationalism',\n",
       " 'Unnamed: 33',\n",
       " 'Unnamed: 34',\n",
       " 'Unnamed: 35',\n",
       " 'Unnamed: 36',\n",
       " 'Unnamed: 37',\n",
       " 'Unnamed: 38',\n",
       " 'Unnamed: 39',\n",
       " 'Unnamed: 40',\n",
       " 'Unnamed: 41',\n",
       " 'Unnamed: 42',\n",
       " 'Unnamed: 43',\n",
       " 'Unnamed: 44',\n",
       " 'Unnamed: 45',\n",
       " 'Unnamed: 46',\n",
       " 'Unnamed: 47',\n",
       " 'Unnamed: 48',\n",
       " 'Unnamed: 49']"
      ]
     },
     "execution_count": 17,
     "metadata": {},
     "output_type": "execute_result"
    }
   ],
   "source": [
    "df.rename(columns={'Q8 At this moment, which government do you feel most morally aligned with?': 'Q8'}, inplace=True)\n",
    "df.rename(columns={\"Q9 Indicate your level of agreement: I felt the need to defend and support the U.S. after reading the Prime Minister's remarks.\": 'Q9'}, inplace=True)\n",
    "\n",
    "list(df.columns)\n"
   ]
  },
  {
   "cell_type": "code",
   "execution_count": null,
   "id": "be42dded",
   "metadata": {},
   "outputs": [],
   "source": [
    "import pandas as pd\n",
    "import statsmodels.formula.api as smf\n",
    "import matplotlib.pyplot as plt\n",
    "import seaborn as sns\n",
    "\n",
    "df = pd.read_csv(\"18_QSurvey .csv\", encoding='ISO-8859-1')\n",
    "\n",
    "\n",
    "#Rename columns for easier access\n",
    "df = df.rename(columns={\n",
    "    'Q8 At this moment, which government do you feel most morally aligned with?': 'Q8'\n",
    "})\n",
    "\n",
    "df = df.rename(columns={\n",
    "    \"Q9 Indicate your level of agreement: I felt the need to defend and support the U.S. after reading the Prime Minister's remarks.\": 'Q9'\n",
    "})\n",
    "\n",
    "#Standardize Treatment column\n",
    "df['Treatment'] = df['Treatment'].astype(str).str.strip().str.lower()\n",
    "\n",
    "#Map responses to numerical scores\n",
    "q8_map = {\n",
    "    'Canada': -1,\n",
    "    'Neither': 0,\n",
    "    'The United States': 1\n",
    "}\n",
    "q9_map = {\n",
    "    'Strongly disagree': -1,\n",
    "    'Somewhat disagree': -1,\n",
    "    'Neither agree nor disagree': 0,\n",
    "    'Somewhat agree': 1,\n",
    "    'Strongly agree': 1\n",
    "}\n",
    "\n",
    "#Apply the mapping to create new score columns\n",
    "df['Q8_score'] = df['Q8'].map(q8_map)\n",
    "df['Q9_score'] = df['Q9'].map(q9_map)\n",
    "\n",
    "#Calculate Moral Alignment as the average of Q8 and Q9 scores\n",
    "df['Moral_Alignment'] = df[['Q8_score', 'Q9_score']].mean(axis=1)\n"
   ]
  },
  {
   "cell_type": "code",
   "execution_count": 30,
   "id": "70de8936",
   "metadata": {},
   "outputs": [
    {
     "name": "stdout",
     "output_type": "stream",
     "text": [
      "                            OLS Regression Results                            \n",
      "==============================================================================\n",
      "Dep. Variable:        Moral_Alignment   R-squared:                       0.003\n",
      "Model:                            OLS   Adj. R-squared:                  0.001\n",
      "Method:                 Least Squares   F-statistic:                     1.276\n",
      "Date:                Thu, 24 Jul 2025   Prob (F-statistic):              0.259\n",
      "Time:                        09:58:17   Log-Likelihood:                -509.31\n",
      "No. Observations:                 402   AIC:                             1023.\n",
      "Df Residuals:                     400   BIC:                             1031.\n",
      "Df Model:                           1                                         \n",
      "Covariance Type:            nonrobust                                         \n",
      "============================================================================================\n",
      "                               coef    std err          t      P>|t|      [0.025      0.975]\n",
      "--------------------------------------------------------------------------------------------\n",
      "Intercept                   -0.0075      0.061     -0.123      0.902      -0.127       0.112\n",
      "C(Treatment)[T.indirect]     0.0970      0.086      1.129      0.259      -0.072       0.266\n",
      "==============================================================================\n",
      "Omnibus:                     2413.501   Durbin-Watson:                   2.077\n",
      "Prob(Omnibus):                  0.000   Jarque-Bera (JB):               47.134\n",
      "Skew:                          -0.061   Prob(JB):                     5.82e-11\n",
      "Kurtosis:                       1.327   Cond. No.                         2.62\n",
      "==============================================================================\n",
      "\n",
      "Notes:\n",
      "[1] Standard Errors assume that the covariance matrix of the errors is correctly specified.\n"
     ]
    },
    {
     "name": "stderr",
     "output_type": "stream",
     "text": [
      "/tmp/ipykernel_14423/1441833544.py:21: UserWarning: \n",
      "\n",
      "The `join` parameter is deprecated and will be removed in v0.15.0. You can remove the line between points with `linestyle='none'`.\n",
      "\n",
      "  sns.pointplot(data=coef_df, x='coef', y='term', join=False, color='black')\n"
     ]
    },
    {
     "data": {
      "image/png": "[encoded data removed]",
      "text/plain": [
       "<Figure size 600x400 with 1 Axes>"
      ]
     },
     "metadata": {},
     "output_type": "display_data"
    },
    {
     "name": "stdout",
     "output_type": "stream",
     "text": [
      "                            OLS Regression Results                            \n",
      "==============================================================================\n",
      "Dep. Variable:        Moral_Alignment   R-squared:                       0.003\n",
      "Model:                            OLS   Adj. R-squared:                  0.001\n",
      "Method:                 Least Squares   F-statistic:                     1.276\n",
      "Date:                Thu, 24 Jul 2025   Prob (F-statistic):              0.259\n",
      "Time:                        09:58:17   Log-Likelihood:                -509.31\n",
      "No. Observations:                 402   AIC:                             1023.\n",
      "Df Residuals:                     400   BIC:                             1031.\n",
      "Df Model:                           1                                         \n",
      "Covariance Type:            nonrobust                                         \n",
      "============================================================================================\n",
      "                               coef    std err          t      P>|t|      [0.025      0.975]\n",
      "--------------------------------------------------------------------------------------------\n",
      "Intercept                   -0.0075      0.061     -0.123      0.902      -0.127       0.112\n",
      "C(Treatment)[T.indirect]     0.0970      0.086      1.129      0.259      -0.072       0.266\n",
      "==============================================================================\n",
      "Omnibus:                     2413.501   Durbin-Watson:                   2.077\n",
      "Prob(Omnibus):                  0.000   Jarque-Bera (JB):               47.134\n",
      "Skew:                          -0.061   Prob(JB):                     5.82e-11\n",
      "Kurtosis:                       1.327   Cond. No.                         2.62\n",
      "==============================================================================\n",
      "\n",
      "Notes:\n",
      "[1] Standard Errors assume that the covariance matrix of the errors is correctly specified.\n"
     ]
    }
   ],
   "source": [
    "#Regression analysis and plotting for Moral Alignment.\n",
    "\n",
    "# Run regression: does treatment (direct vs indirect) affect Moral_Alignment?\n",
    "##df_trimmed = df.iloc[2:]\n",
    "##model = smf.ols('Moral_Alignment ~ C(Treatment)', data=df_trimmed).fit()\n",
    "model = smf.ols('Moral_Alignment ~ C(Treatment)', data=df).fit()\n",
    "print(model.summary())\n",
    "\n",
    "# Coefficients for plotting\n",
    "coefs = model.params\n",
    "errors = model.bse\n",
    "\n",
    "#Plotting\n",
    "coef_df = pd.DataFrame({\n",
    "    'coef': coefs,\n",
    "    'err': errors\n",
    "}).reset_index().rename(columns={'index': 'term'})\n",
    "\n",
    "# Plotting\n",
    "plt.figure(figsize=(6, 4))\n",
    "sns.pointplot(data=coef_df, x='coef', y='term', join=False, color='black')\n",
    "plt.errorbar(coef_df['coef'], coef_df['term'], xerr=coef_df['err'], fmt='o', color='black', capsize=4)\n",
    "plt.axvline(0, linestyle='--', color='gray')\n",
    "plt.title(\"Effect of Treatment on Moral Alignment\")\n",
    "plt.xlabel(\"Coefficient Estimate\")\n",
    "plt.ylabel(\"\")\n",
    "plt.tight_layout()\n",
    "plt.grid(True, axis='x', linestyle=':', alpha=0.7)\n",
    "plt.show()\n",
    "\n",
    "model = smf.ols('Moral_Alignment ~ C(Treatment)', data=df).fit()\n",
    "print(model.summary())"
   ]
  },
  {
   "cell_type": "code",
   "execution_count": null,
   "id": "741c3615",
   "metadata": {
    "vscode": {
     "languageId": "markdown"
    }
   },
   "outputs": [],
   "source": [
    "import\n",
    "\n",
    "- The file `\"18_QSurvey.csv\"` does not exist in your current working directory.\n",
    "- There is a typo in the filename or path.\n",
    "- The pandas library (`pd`) is not imported (but in your code, it is).\n",
    "- There is a problem with the file encoding or file format.\n",
    "\n",
    "Check that the file is present in the same directory as your notebook, and that the filename and path are correct. If the file is missing, upload it or provide the correct path."
   ]
  },
  {
   "cell_type": "code",
   "execution_count": null,
   "id": "dda6c4b9",
   "metadata": {},
   "outputs": [],
   "source": []
  }
 ],
 "metadata": {
  "kernelspec": {
   "display_name": "Python 3",
   "language": "python",
   "name": "python3"
  },
  "language_info": {
   "codemirror_mode": {
    "name": "ipython",
    "version": 3
   },
   "file_extension": ".py",
   "mimetype": "text/x-python",
   "name": "python",
   "nbconvert_exporter": "python",
   "pygments_lexer": "ipython3",
   "version": "3.12.1"
  }
 },
 "nbformat": 4,
 "nbformat_minor": 5
}
