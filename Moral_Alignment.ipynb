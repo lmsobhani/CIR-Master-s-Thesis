{
 "cells": [
  {
   "cell_type": "code",
   "execution_count": null,
   "id": "70de8936",
   "metadata": {
    "vscode": {
     "languageId": "plaintext"
    }
   },
   "outputs": [],
   "source": [
    "import statsmodels.formula.api as smf\n",
    "import matplotlib.pyplot as plt\n",
    "import seaborn as sns\n",
    "\n",
    "# Clean 'Treatment' values again to ensure consistent formatting\n",
    "df['Treatment'] = df['Treatment'].astype(str).str.strip().str.lower()\n",
    "\n",
    "# Run regression: does treatment (direct vs indirect) affect Moral_Alignment?\n",
    "model = smf.ols('Moral_Alignment ~ C(Treatment)', data=df).fit()\n",
    "\n",
    "# Coefficients for plotting\n",
    "coefs = model.params\n",
    "errors = model.bse\n",
    "\n",
    "#Plotting\n",
    "coef_df = pd.DataFrame({\n",
    "    'coef': coefs,\n",
    "    'err': errors\n",
    "}).reset_index().rename(columns={'index': 'term'})\n",
    "\n",
    "# Plotting\n",
    "plt.figure(figsize=(6, 4))\n",
    "sns.pointplot(data=coef_df, x='coef', y='term', join=False, color='black')\n",
    "plt.errorbar(coef_df['coef'], coef_df['term'], xerr=coef_df['err'], fmt='o', color='black', capsize=4)\n",
    "plt.axvline(0, linestyle='--', color='gray')\n",
    "plt.title(\"Effect of Treatment on Moral Alignment\")\n",
    "plt.xlabel(\"Coefficient Estimate\")\n",
    "plt.ylabel(\"\")\n",
    "plt.tight_layout()\n",
    "plt.grid(True, axis='x', linestyle=':', alpha=0.7)\n",
    "plt.show()\n",
    "\n",
    "model.summary()"
   ]
  }
 ],
 "metadata": {
  "language_info": {
   "name": "python"
  }
 },
 "nbformat": 4,
 "nbformat_minor": 5
}
